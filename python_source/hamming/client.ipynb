{
 "cells": [
  {
   "cell_type": "markdown",
   "id": "4123b458",
   "metadata": {},
   "source": [
    "# Клиент для обмена сообщенями с сервером и проверки работоспособности кодоа Хэмминга"
   ]
  },
  {
   "cell_type": "code",
   "execution_count": 1,
   "id": "aec490d9",
   "metadata": {},
   "outputs": [],
   "source": [
    "import hamming\n",
    "import random\n",
    "import socket\n",
    "from contextlib import closing\n",
    "\n",
    "import sys\n",
    "sys.path.append('../')\n",
    "from utils import text_to_bits"
   ]
  },
  {
   "cell_type": "code",
   "execution_count": 2,
   "id": "6ee0cf0f",
   "metadata": {},
   "outputs": [],
   "source": [
    "HOST = '127.0.0.1'\n",
    "PORT = 65432"
   ]
  },
  {
   "cell_type": "code",
   "execution_count": null,
   "id": "3195671a",
   "metadata": {},
   "outputs": [
    {
     "name": "stdout",
     "output_type": "stream",
     "text": [
      "Введите сообщение: hello!\n",
      "Сообщение в двоичном виде:\n",
      "011010000110010101101100011011000110111100100001\n",
      "Закодированное сообщение:\n",
      "000011011000011100101011011000111011000110111100100001\n",
      "Внесена ошибка в 6 бит:\n",
      "000011111000011100101011011000111011000110111100100001\n",
      "Сервер правильно декодировал сообщение\n",
      "\n"
     ]
    }
   ],
   "source": [
    "s = socket.socket()\n",
    "s.connect((HOST, PORT))\n",
    "\n",
    "with closing(s) as sock:\n",
    "    while True:\n",
    "        input_string = input('Введите сообщение: ')\n",
    "        data = text_to_bits(input_string)\n",
    "        print(f'Сообщение в двоичном виде:\\n{data}')\n",
    "\n",
    "        data = hamming.encode(data)\n",
    "        print(f'Закодированное сообщение:\\n{data}')\n",
    "\n",
    "        if bool(random.getrandbits(1)):\n",
    "            bit_index = random.randint(0, len(data) - 1)\n",
    "            data = data[:bit_index] + ('0' if data[bit_index] == '1' else '1') + data[bit_index + 1:]\n",
    "            print(f'Внесена ошибка в {bit_index} бит:\\n{data}')\n",
    "\n",
    "        sock.sendto(data.encode(), (HOST, PORT))\n",
    "        \n",
    "        if sock.recv(1024).decode() == input_string:\n",
    "            print('Сервер правильно декодировал сообщение\\n')\n",
    "            continue\n",
    "        print('Сервер неправильно декодировал сообщение\\n')"
   ]
  },
  {
   "cell_type": "code",
   "execution_count": null,
   "id": "b39432f8",
   "metadata": {},
   "outputs": [],
   "source": []
  }
 ],
 "metadata": {
  "kernelspec": {
   "display_name": "Python 3",
   "language": "python",
   "name": "python3"
  },
  "language_info": {
   "codemirror_mode": {
    "name": "ipython",
    "version": 3
   },
   "file_extension": ".py",
   "mimetype": "text/x-python",
   "name": "python",
   "nbconvert_exporter": "python",
   "pygments_lexer": "ipython3",
   "version": "3.8.8"
  }
 },
 "nbformat": 4,
 "nbformat_minor": 5
}

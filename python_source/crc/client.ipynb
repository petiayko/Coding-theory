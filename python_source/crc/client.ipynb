{
 "cells": [
  {
   "cell_type": "markdown",
   "id": "a0d4fde0",
   "metadata": {},
   "source": [
    "# Клиент для обмена сообщенями с сервером и проверки работоспособности CRC кодоа"
   ]
  },
  {
   "cell_type": "code",
   "execution_count": 1,
   "id": "92dcd7ff",
   "metadata": {},
   "outputs": [],
   "source": [
    "import crc\n",
    "import random\n",
    "import socket\n",
    "from contextlib import closing\n",
    "\n",
    "import sys\n",
    "sys.path.append('../')\n",
    "from utils import text_to_bits"
   ]
  },
  {
   "cell_type": "code",
   "execution_count": 2,
   "id": "79835a27",
   "metadata": {},
   "outputs": [],
   "source": [
    "HOST = '127.0.0.1'\n",
    "PORT = 65432"
   ]
  },
  {
   "cell_type": "code",
   "execution_count": null,
   "id": "c5448928",
   "metadata": {},
   "outputs": [
    {
     "name": "stdout",
     "output_type": "stream",
     "text": [
      "Введите сообщение: hello\n",
      "Сообщение в двоичном виде:\n",
      "0110100001100101011011000110110001101111\n",
      "Закодированное сообщение:\n",
      "0110100001100101011011000110110001101111011\n",
      "Внесена ошибка в 27 бите:\n",
      "0110100001100101011011000111110001101111011\n",
      "Сервер неправильно декодировал сообщение\n",
      "\n",
      "Введите сообщение: good morning\n",
      "Сообщение в двоичном виде:\n",
      "011001110110111101101111011001000010000001101101011011110111001001101110011010010110111001100111\n",
      "Закодированное сообщение:\n",
      "011001110110111101101111011001000010000001101101011011110111001001101110011010010110111001100111011\n",
      "Внесена ошибка в 73 бите:\n",
      "011001110110111101101111011001000010000001101101011011110111001001101110001010010110111001100111011\n",
      "Сервер неправильно декодировал сообщение\n",
      "\n",
      "Введите сообщение: cow\n",
      "Сообщение в двоичном виде:\n",
      "011000110110111101110111\n",
      "Закодированное сообщение:\n",
      "011000110110111101110111000\n",
      "Внесена ошибка в 22 бите:\n",
      "011000110110111101110101000\n",
      "Сервер неправильно декодировал сообщение\n",
      "\n",
      "Введите сообщение: plane\n",
      "Сообщение в двоичном виде:\n",
      "0111000001101100011000010110111001100101\n",
      "Закодированное сообщение:\n",
      "0111000001101100011000010110111001100101111\n",
      "Сервер правильно декодировал сообщение\n",
      "\n"
     ]
    }
   ],
   "source": [
    "s = socket.socket()\n",
    "s.connect((HOST, PORT))\n",
    "\n",
    "with closing(s) as sock:\n",
    "    while True:\n",
    "        input_string = input('Введите сообщение: ')\n",
    "        data = text_to_bits(input_string)\n",
    "        print(f'Сообщение в двоичном виде:\\n{data}')\n",
    "\n",
    "        data = crc.encode(data)\n",
    "        print(f'Закодированное сообщение:\\n{data}')\n",
    "\n",
    "        if bool(random.getrandbits(1)):\n",
    "            bit_index = random.randint(0, len(data) - 1)\n",
    "            data = data[:bit_index] + ('0' if data[bit_index] == '1' else '1') + data[bit_index + 1:]\n",
    "            print(f'Внесена ошибка в {bit_index} бите:\\n{data}')\n",
    "\n",
    "        sock.sendto(data.encode(), (HOST, PORT))\n",
    "        if sock.recv(1024).decode() == input_string:\n",
    "            print('Сервер правильно декодировал сообщение\\n')\n",
    "            continue\n",
    "        print('Сервер неправильно декодировал сообщение\\n')"
   ]
  },
  {
   "cell_type": "code",
   "execution_count": null,
   "id": "6dab7398",
   "metadata": {},
   "outputs": [],
   "source": []
  }
 ],
 "metadata": {
  "kernelspec": {
   "display_name": "Python 3",
   "language": "python",
   "name": "python3"
  },
  "language_info": {
   "codemirror_mode": {
    "name": "ipython",
    "version": 3
   },
   "file_extension": ".py",
   "mimetype": "text/x-python",
   "name": "python",
   "nbconvert_exporter": "python",
   "pygments_lexer": "ipython3",
   "version": "3.8.8"
  }
 },
 "nbformat": 4,
 "nbformat_minor": 5
}
